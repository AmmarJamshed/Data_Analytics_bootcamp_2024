{
  "nbformat": 4,
  "nbformat_minor": 0,
  "metadata": {
    "colab": {
      "provenance": []
    },
    "kernelspec": {
      "name": "python3",
      "display_name": "Python 3"
    },
    "language_info": {
      "name": "python"
    }
  },
  "cells": [
    {
      "cell_type": "code",
      "execution_count": 2,
      "metadata": {
        "colab": {
          "base_uri": "https://localhost:8080/"
        },
        "id": "kGAgQe69nsqk",
        "outputId": "13b72309-45a4-4ee5-8ff3-2c9e6ecfe56e"
      },
      "outputs": [
        {
          "output_type": "stream",
          "name": "stdout",
          "text": [
            "Hello world\n"
          ]
        }
      ],
      "source": [
        "print('Hello world')"
      ]
    },
    {
      "cell_type": "code",
      "source": [
        "5**2"
      ],
      "metadata": {
        "colab": {
          "base_uri": "https://localhost:8080/"
        },
        "id": "Inrjl0FOoza-",
        "outputId": "32b18398-cfd8-4b04-a3f1-d42b1802827b"
      },
      "execution_count": 3,
      "outputs": [
        {
          "output_type": "execute_result",
          "data": {
            "text/plain": [
              "25"
            ]
          },
          "metadata": {},
          "execution_count": 3
        }
      ]
    },
    {
      "cell_type": "markdown",
      "source": [
        " - #* multiplication\n",
        " - #** Power\n",
        "- #+ plus\n",
        "- #/ divide"
      ],
      "metadata": {
        "id": "ISvXPGlSpfAV"
      }
    },
    {
      "cell_type": "code",
      "source": [],
      "metadata": {
        "colab": {
          "base_uri": "https://localhost:8080/",
          "height": 110
        },
        "id": "QtvmYhr3pTtp",
        "outputId": "7decb557-13f3-452d-d059-4d7b9990067e"
      },
      "execution_count": 4,
      "outputs": [
        {
          "output_type": "error",
          "ename": "SyntaxError",
          "evalue": "invalid syntax (<ipython-input-4-226af764700b>, line 1)",
          "traceback": [
            "\u001b[0;36m  File \u001b[0;32m\"<ipython-input-4-226af764700b>\"\u001b[0;36m, line \u001b[0;32m1\u001b[0m\n\u001b[0;31m    * # multiplication\u001b[0m\n\u001b[0m      ^\u001b[0m\n\u001b[0;31mSyntaxError\u001b[0m\u001b[0;31m:\u001b[0m invalid syntax\n"
          ]
        }
      ]
    },
    {
      "cell_type": "code",
      "source": [
        "print(2-5)"
      ],
      "metadata": {
        "colab": {
          "base_uri": "https://localhost:8080/"
        },
        "id": "B7OGYVn8pdUd",
        "outputId": "34ad2565-7d01-4f7d-86e3-676cea477ce1"
      },
      "execution_count": 5,
      "outputs": [
        {
          "output_type": "stream",
          "name": "stdout",
          "text": [
            "-3\n"
          ]
        }
      ]
    },
    {
      "cell_type": "code",
      "source": [
        "print(10/4)"
      ],
      "metadata": {
        "colab": {
          "base_uri": "https://localhost:8080/"
        },
        "id": "3JNxdVoqpu0q",
        "outputId": "32a443fc-7e21-45b1-9595-2493a800ef27"
      },
      "execution_count": 9,
      "outputs": [
        {
          "output_type": "stream",
          "name": "stdout",
          "text": [
            "2.5\n"
          ]
        }
      ]
    },
    {
      "cell_type": "code",
      "source": [
        "print (100*1.1**7)"
      ],
      "metadata": {
        "colab": {
          "base_uri": "https://localhost:8080/"
        },
        "id": "yUHCNV2-pwl0",
        "outputId": "d0142450-41d9-4840-d7a2-5347135961e3"
      },
      "execution_count": 11,
      "outputs": [
        {
          "output_type": "stream",
          "name": "stdout",
          "text": [
            "194.87171000000012\n"
          ]
        }
      ]
    },
    {
      "cell_type": "code",
      "source": [
        "x = 5\n",
        "print(x)"
      ],
      "metadata": {
        "colab": {
          "base_uri": "https://localhost:8080/"
        },
        "id": "F6kS_tVOpskM",
        "outputId": "3b579c7e-22c5-4cfd-d10b-a819675a98f0"
      },
      "execution_count": 12,
      "outputs": [
        {
          "output_type": "stream",
          "name": "stdout",
          "text": [
            "5\n"
          ]
        }
      ]
    },
    {
      "cell_type": "code",
      "source": [
        "x = 10"
      ],
      "metadata": {
        "id": "gdKVSJBcr6HZ"
      },
      "execution_count": 13,
      "outputs": []
    },
    {
      "cell_type": "code",
      "source": [
        "print(x)"
      ],
      "metadata": {
        "colab": {
          "base_uri": "https://localhost:8080/"
        },
        "id": "JmfdIl6er-jj",
        "outputId": "6fa33914-c33f-4cce-c0ba-422ee5fdf668"
      },
      "execution_count": 14,
      "outputs": [
        {
          "output_type": "stream",
          "name": "stdout",
          "text": [
            "10\n"
          ]
        }
      ]
    },
    {
      "cell_type": "code",
      "source": [
        "items = 10\n",
        "price = 2\n",
        "returned = 3\n",
        "sent = \"My remaining items are\"\n",
        "net_items = items-returned\n",
        "print(sent, net_items)"
      ],
      "metadata": {
        "colab": {
          "base_uri": "https://localhost:8080/"
        },
        "id": "WvEm_AG3r_o0",
        "outputId": "ac1984bf-0891-4d33-fbe5-3331e1970346"
      },
      "execution_count": 17,
      "outputs": [
        {
          "output_type": "stream",
          "name": "stdout",
          "text": [
            "My remaining items are 7\n"
          ]
        }
      ]
    },
    {
      "cell_type": "code",
      "source": [
        "type(sent)"
      ],
      "metadata": {
        "colab": {
          "base_uri": "https://localhost:8080/"
        },
        "id": "im-m6RxusQN-",
        "outputId": "87b3c29f-2b96-47c4-9a09-78f45744fc80"
      },
      "execution_count": 19,
      "outputs": [
        {
          "output_type": "execute_result",
          "data": {
            "text/plain": [
              "str"
            ]
          },
          "metadata": {},
          "execution_count": 19
        }
      ]
    },
    {
      "cell_type": "code",
      "source": [
        "# Write three strings, set two of them as variables 'first_sent' and \"second_sent\"\n",
        "# Write a comment above each variable describing it\n",
        "# create a variable of age and print it between the sentence - \"This person is 17 years old\""
      ],
      "metadata": {
        "id": "ukQvSQxts2Es"
      },
      "execution_count": 20,
      "outputs": []
    },
    {
      "cell_type": "code",
      "source": [
        "# This the name of the person\n",
        "name = 'Jack'\n",
        "# This is the age of the person\n",
        "age = 30\n",
        "# This is the job of the person\n",
        "job = 'Engineer'\n",
        "\n",
        "print(f\"This person name {name} is and age is {age} and job is {job}\")\n",
        "print(f\"This person name is {name}  and age is {age} and job is {job}\")"
      ],
      "metadata": {
        "colab": {
          "base_uri": "https://localhost:8080/"
        },
        "id": "tHGUxI4qtI8-",
        "outputId": "18f9c0f3-78b2-4b88-b25d-d528d5474ee2"
      },
      "execution_count": 21,
      "outputs": [
        {
          "output_type": "stream",
          "name": "stdout",
          "text": [
            "This person name Jack is and age is 30 and job is Engineer\n",
            "This person name is Jack  and age is 30 and job is Engineer\n"
          ]
        }
      ]
    },
    {
      "cell_type": "code",
      "source": [
        "print(f\"Persons name is {name}\")"
      ],
      "metadata": {
        "colab": {
          "base_uri": "https://localhost:8080/"
        },
        "id": "sX_Y_k3twfnh",
        "outputId": "2c204b0f-d3fc-4614-e534-ab6fa3bb022a"
      },
      "execution_count": 24,
      "outputs": [
        {
          "output_type": "stream",
          "name": "stdout",
          "text": [
            "Persons name is Jack\n"
          ]
        }
      ]
    },
    {
      "cell_type": "code",
      "source": [
        "age = 22\n",
        "name = \"Ammar\"\n",
        "print(\"This persons name is\", name, \"and his age is\", age)\n"
      ],
      "metadata": {
        "colab": {
          "base_uri": "https://localhost:8080/"
        },
        "id": "TKxO-43awmm-",
        "outputId": "47eb07de-a838-4199-c2f4-8ee767ab77d9"
      },
      "execution_count": 31,
      "outputs": [
        {
          "output_type": "stream",
          "name": "stdout",
          "text": [
            "This persons name is Ammar and his age is 22\n"
          ]
        }
      ]
    },
    {
      "cell_type": "code",
      "source": [
        "weight == 102\n",
        "height == 10\n",
        "BMI = weight/height\n",
        "BMI"
      ],
      "metadata": {
        "colab": {
          "base_uri": "https://localhost:8080/"
        },
        "id": "VLtSZzzewuGy",
        "outputId": "5a7deb00-0c13-4da9-c929-d5443f73aaa9"
      },
      "execution_count": 36,
      "outputs": [
        {
          "output_type": "execute_result",
          "data": {
            "text/plain": [
              "10.2"
            ]
          },
          "metadata": {},
          "execution_count": 36
        }
      ]
    },
    {
      "cell_type": "code",
      "source": [
        "x = 4\n"
      ],
      "metadata": {
        "id": "8iWKncV3xiS2"
      },
      "execution_count": 37,
      "outputs": []
    },
    {
      "cell_type": "code",
      "source": [
        "x == 4"
      ],
      "metadata": {
        "colab": {
          "base_uri": "https://localhost:8080/"
        },
        "id": "6jPAxXtryRUu",
        "outputId": "a6c3d333-c151-463f-c5e0-59d7a501269d"
      },
      "execution_count": 38,
      "outputs": [
        {
          "output_type": "execute_result",
          "data": {
            "text/plain": [
              "True"
            ]
          },
          "metadata": {},
          "execution_count": 38
        }
      ]
    },
    {
      "cell_type": "code",
      "source": [
        "2 == 2"
      ],
      "metadata": {
        "colab": {
          "base_uri": "https://localhost:8080/"
        },
        "id": "b4wz7oQ5x5Dh",
        "outputId": "1484ff58-8c95-4e1e-b65c-632559e33ce1"
      },
      "execution_count": 34,
      "outputs": [
        {
          "output_type": "execute_result",
          "data": {
            "text/plain": [
              "True"
            ]
          },
          "metadata": {},
          "execution_count": 34
        }
      ]
    },
    {
      "cell_type": "code",
      "source": [],
      "metadata": {
        "id": "Yg6bf1Gex7g9"
      },
      "execution_count": null,
      "outputs": []
    }
  ]
}